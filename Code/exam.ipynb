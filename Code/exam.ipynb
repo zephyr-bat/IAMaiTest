{
 "cells": [
  {
   "cell_type": "code",
   "execution_count": 2,
   "metadata": {},
   "outputs": [
    {
     "data": {
      "text/plain": [
       "'c:\\\\Users\\\\Mikrail\\\\Desktop\\\\Test\\\\tensorflow-yolov4-tflite-master'"
      ]
     },
     "execution_count": 2,
     "metadata": {},
     "output_type": "execute_result"
    }
   ],
   "source": [
    "%pwd"
   ]
  },
  {
   "cell_type": "code",
   "execution_count": null,
   "metadata": {},
   "outputs": [],
   "source": [
    "!python save_model.py --weights ./data/custom.weights --output ./checkpoints/custom-416 --input_size 416 --model yolov4"
   ]
  },
  {
   "cell_type": "code",
   "execution_count": null,
   "metadata": {},
   "outputs": [],
   "source": [
    "!python detect_video.py --weights ./checkpoints/custom-416 --size 416 --model yolov4 --video 0 --output ./detections/results.avi"
   ]
  },
  {
   "cell_type": "code",
   "execution_count": null,
   "metadata": {},
   "outputs": [],
   "source": [
    "%cd scripts\n",
    "!python coco_convert.py --input ./test/_annotations.coco.json --output examTest.pkl\n",
    "!python coco_annotation.py --coco_path ./\n",
    "%cd ..\n",
    "!python evaluate.py\n",
    "%cd mAP/extra\n",
    "!python remove_space.py\n",
    "%cd ..\n",
    "!python main.py --output results_yolov4_tf"
   ]
  }
 ],
 "metadata": {
  "interpreter": {
   "hash": "6148b943999f4dd9198403a9e3bd10c68fdbc3694e9e85a722d8202a8590fbf3"
  },
  "kernelspec": {
   "display_name": "Python 3.6.8 64-bit",
   "language": "python",
   "name": "python3"
  },
  "language_info": {
   "codemirror_mode": {
    "name": "ipython",
    "version": 3
   },
   "file_extension": ".py",
   "mimetype": "text/x-python",
   "name": "python",
   "nbconvert_exporter": "python",
   "pygments_lexer": "ipython3",
   "version": "3.6.8"
  },
  "orig_nbformat": 4
 },
 "nbformat": 4,
 "nbformat_minor": 2
}
